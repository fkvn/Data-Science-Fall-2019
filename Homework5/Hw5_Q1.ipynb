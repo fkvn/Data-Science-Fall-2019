{
 "cells": [
  {
   "cell_type": "markdown",
   "metadata": {},
   "source": [
    "# Question1: Handwriting Recognition using Machine Learning!"
   ]
  },
  {
   "cell_type": "markdown",
   "metadata": {},
   "source": [
    "# a - Check the dataset “Digit” in HW5 package. \n",
    "\n",
    "It includes 1700 small images (8x8 pixels), each one includes a hand-written digit (0-9). You have to download the corresponding csv file that includes the labels of the images. The goal is to build a Machine Learning Algorithm that can recognize the hand-written digits!\n",
    "\n",
    "* Import the following two libraries to work with images:\n",
    "\n",
    "   **import matplotlib.image as mpimg**\n",
    "\n",
    "   **import matplotlib.pyplot as plt**\n",
    "\n",
    "\n",
    "* You can use:\n",
    "\n",
    "   **mpimg.imread(file_name)** to load an image\n",
    "   \n",
    "   **plt.imshow(image_name, cmap=plt.cm.gray_r, interpolation='nearest')** to show an image.\n",
    "\n",
    "#### Add \"**matplotlib inline**\" at top of your code to make sure that the images will be shown inside the Jupyter explorer page."
   ]
  },
  {
   "cell_type": "code",
   "execution_count": 1,
   "metadata": {},
   "outputs": [],
   "source": [
    "import numpy as np\n",
    "import pandas as pd\n",
    "\n",
    "import matplotlib.image as mpimg\n",
    "import matplotlib.pyplot as plt"
   ]
  },
  {
   "cell_type": "code",
   "execution_count": 2,
   "metadata": {},
   "outputs": [],
   "source": [
    "img = mpimg.imread('./Digit/27.jpg')"
   ]
  },
  {
   "cell_type": "code",
   "execution_count": 3,
   "metadata": {},
   "outputs": [
    {
     "data": {
      "text/plain": [
       "array([[  0,   3,   0, 123, 222, 229,  36,   0],\n",
       "       [  6,   9,   0, 113, 156, 239, 169,   1],\n",
       "       [  4,   0,   0,   0,  11, 220, 156,   4],\n",
       "       [  0,  55, 137, 173, 203, 255, 129,   0],\n",
       "       [ 13, 121, 254, 255, 255, 252,  97,   3],\n",
       "       [  0,   0,   6,   3, 169, 227,  37,   0],\n",
       "       [  1,  14,   0, 140, 255,  99,   0,   9],\n",
       "       [  0,   0,  27, 177, 202,  23,   0,   0]], dtype=uint8)"
      ]
     },
     "execution_count": 3,
     "metadata": {},
     "output_type": "execute_result"
    }
   ],
   "source": [
    "img"
   ]
  },
  {
   "cell_type": "code",
   "execution_count": 4,
   "metadata": {},
   "outputs": [
    {
     "name": "stdout",
     "output_type": "stream",
     "text": [
      "(8, 8)\n"
     ]
    }
   ],
   "source": [
    "print(img.shape)"
   ]
  },
  {
   "cell_type": "code",
   "execution_count": 5,
   "metadata": {},
   "outputs": [
    {
     "data": {
      "text/plain": [
       "<matplotlib.image.AxesImage at 0x11eec7dd8>"
      ]
     },
     "execution_count": 5,
     "metadata": {},
     "output_type": "execute_result"
    },
    {
     "data": {
      "image/png": "[encoded data removed]",
      "text/plain": [
       "<Figure size 432x288 with 1 Axes>"
      ]
     },
     "metadata": {
      "needs_background": "light"
     },
     "output_type": "display_data"
    }
   ],
   "source": [
    "%matplotlib inline\n",
    "\n",
    "plt.imshow(img, cmap=plt.cm.gray_r, interpolation='nearest')"
   ]
  },
  {
   "cell_type": "markdown",
   "metadata": {},
   "source": [
    "## b - Build the feature matrix and label vector: \n",
    "\n",
    "#### Each image is considered as a data sample with pixels as features. \n",
    "#### Thus, to build the feature table you have to convert each 8x8 image into an array of 64 elements (i.e. 64 pixels)\n",
    "#### Put it as a row of the feature matrix with 64 feature columns."
   ]
  },
  {
   "cell_type": "code",
   "execution_count": 6,
   "metadata": {},
   "outputs": [],
   "source": [
    "# Feature matrix\n",
    "\n",
    "path = './Digit/'\n",
    "extension = '.jpg'\n",
    "col_labels = []\n",
    "X = []\n",
    "\n",
    "for i in range(1700):\n",
    "    fileName = path + str(i) + extension\n",
    "    imgArr = mpimg.imread(fileName).flatten()\n",
    "    X.append(imgArr)\n",
    "\n",
    "for i in range(64):\n",
    "    col_labels.append(i)\n",
    "    \n",
    "X = pd.DataFrame(X, columns=col_labels)    \n",
    "\n",
    "# Label vector\n",
    "\n",
    "label_df = pd.read_csv(\"label.csv\")\n",
    "y = label_df['digit label']"
   ]
  },
  {
   "cell_type": "markdown",
   "metadata": {},
   "source": [
    "## c - Use sklearn functions to split the dataset into testing and training sets with the following parameters: test_size=0.1, random_state=3.\n"
   ]
  },
  {
   "cell_type": "code",
   "execution_count": 7,
   "metadata": {},
   "outputs": [
    {
     "name": "stdout",
     "output_type": "stream",
     "text": [
      "(1530, 64)\n",
      "(1530,)\n",
      "(170, 64)\n",
      "(170,)\n"
     ]
    }
   ],
   "source": [
    "from sklearn.model_selection import train_test_split\n",
    "\n",
    "# Randomly splitting the original dataset into training set and testing set:\n",
    "X_train, X_test, y_train, y_test = train_test_split(X, y, test_size=0.1, random_state=3)\n",
    "\n",
    "# print the size of the traning set:\n",
    "print(X_train.shape)\n",
    "print(y_train.shape)\n",
    "\n",
    "# print the size of the testing set:\n",
    "print(X_test.shape)\n",
    "print(y_test.shape)"
   ]
  },
  {
   "cell_type": "markdown",
   "metadata": {},
   "source": [
    "## d - Use scikit-learn “Random Forest” classifier to recognize the hand-written digits based on the training/testing datasets that you built in part (c). Use this command to import and define your classifier:\n",
    "\n",
    "* **from sklearn.ensemble import RandomForestClassifier**\n",
    "\n",
    "* **my_RandomForest = RandomForestClassifier(n_estimators = 19, bootstrap = True, random_state=3)**\n",
    "  \n",
    "Use **my_RandomForest.fit** for training your random forest classifier and **my_RandomForest.predict** for prediction. \n",
    "\n",
    "#### Test your Machine Learning Algorithm on testing set (from part(c)), and calculate and report the accuracy."
   ]
  },
  {
   "cell_type": "code",
   "execution_count": 8,
   "metadata": {},
   "outputs": [
    {
     "name": "stdout",
     "output_type": "stream",
     "text": [
      "Random Forest:  0.9588235294117647\n"
     ]
    }
   ],
   "source": [
    "from sklearn.ensemble import RandomForestClassifier\n",
    "from sklearn.metrics import accuracy_score\n",
    "\n",
    "my_RandomForest = RandomForestClassifier(n_estimators = 19, bootstrap = True, random_state=3)\n",
    "\n",
    "# for training: \n",
    "my_RandomForest.fit(X_train, y_train)\n",
    "\n",
    "# for testing/prediction:  \n",
    "y_predict_rf = my_RandomForest.predict(X_test)\n",
    "\n",
    "accuracy =  accuracy_score(y_test, y_predict_rf)\n",
    "\n",
    "print(\"Random Forest: \", accuracy)"
   ]
  },
  {
   "cell_type": "markdown",
   "metadata": {},
   "source": [
    "## e - Write some codes to find which one of the data samples (i.e. which images) have been misclassified (classified incorrectly) in your testing set. \n",
    "\n",
    "Then, use the following command to show the misclassified images:\n",
    "\n",
    "* **plt.imshow(image_name, cmap=plt.cm.gray_r, interpolation='nearest')**\n"
   ]
  },
  {
   "cell_type": "code",
   "execution_count": 9,
   "metadata": {},
   "outputs": [
    {
     "name": "stdout",
     "output_type": "stream",
     "text": [
      "27.jpg :  predict -  1 / actual -  7\n",
      "890.jpg :  predict -  1 / actual -  8\n",
      "1660.jpg :  predict -  7 / actual -  4\n",
      "1095.jpg :  predict -  9 / actual -  4\n",
      "103.jpg :  predict -  5 / actual -  3\n",
      "69.jpg :  predict -  7 / actual -  9\n",
      "1690.jpg :  predict -  8 / actual -  3\n"
     ]
    },
    {
     "data": {
      "image/png": "[encoded data removed]",
      "text/plain": [
       "<Figure size 1440x1440 with 7 Axes>"
      ]
     },
     "metadata": {
      "needs_background": "light"
     },
     "output_type": "display_data"
    }
   ],
   "source": [
    "%matplotlib inline\n",
    "\n",
    "misclassifiedImg = []\n",
    "path = './Digit/'\n",
    "extension = '.jpg'\n",
    "\n",
    "fig = plt.figure(figsize=(20, 20))\n",
    "columns = 8\n",
    "rows = 5\n",
    "\n",
    "# ax enables access to manipulate each of subplots\n",
    "ax = []\n",
    "\n",
    "for i in range(int(y_test.shape[0])):\n",
    "    if y_predict_rf[i] != y_test.values[i]:\n",
    "        print(str(y_test.index.values[i]) + extension, \": \", \"predict - \",y_predict_rf[i], \"/ actual - \", y_test.values[i])\n",
    "        misclassifiedImg.append(y_test.index.values[i])\n",
    "        \n",
    "\n",
    "\n",
    "for i in range(len(misclassifiedImg)):\n",
    "    fileName = path + str(misclassifiedImg[i]) + extension\n",
    "    img = mpimg.imread(fileName)\n",
    "\n",
    "    ax.append(fig.add_subplot(rows, columns, i + 1))\n",
    "    ax[-1].set_title(str(misclassifiedImg[i]) + extension)  # set title\n",
    "    plt.imshow(img, cmap=plt.cm.gray_r, interpolation='nearest')\n",
    "\n"
   ]
  },
  {
   "cell_type": "code",
   "execution_count": null,
   "metadata": {},
   "outputs": [],
   "source": []
  }
 ],
 "metadata": {
  "kernelspec": {
   "display_name": "Python 3",
   "language": "python",
   "name": "python3"
  },
  "language_info": {
   "codemirror_mode": {
    "name": "ipython",
    "version": 3
   },
   "file_extension": ".py",
   "mimetype": "text/x-python",
   "name": "python",
   "nbconvert_exporter": "python",
   "pygments_lexer": "ipython3",
   "version": "3.7.3"
  }
 },
 "nbformat": 4,
 "nbformat_minor": 2
}
